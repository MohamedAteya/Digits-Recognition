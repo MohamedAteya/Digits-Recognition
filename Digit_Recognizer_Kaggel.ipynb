{
  "nbformat": 4,
  "nbformat_minor": 0,
  "metadata": {
    "colab": {
      "name": "Digit Recognizer-Kaggel.ipynb",
      "provenance": [],
      "collapsed_sections": [],
      "authorship_tag": "ABX9TyPIUvsXknv9sVluMH/LOang",
      "include_colab_link": true
    },
    "kernelspec": {
      "name": "python3",
      "display_name": "Python 3"
    },
    "accelerator": "GPU"
  },
  "cells": [
    {
      "cell_type": "markdown",
      "metadata": {
        "id": "view-in-github",
        "colab_type": "text"
      },
      "source": [
        "<a href=\"https://colab.research.google.com/github/MohamedAteya/Digits-Recognition/blob/master/Digit_Recognizer_Kaggel.ipynb\" target=\"_parent\"><img src=\"https://colab.research.google.com/assets/colab-badge.svg\" alt=\"Open In Colab\"/></a>"
      ]
    },
    {
      "cell_type": "code",
      "metadata": {
        "id": "IAeChNYUBIcb",
        "colab_type": "code",
        "colab": {
          "base_uri": "https://localhost:8080/",
          "height": 74
        },
        "outputId": "cdc42395-e5a3-4335-d5b9-146b2ff30698"
      },
      "source": [
        "import numpy as np\n",
        "import tensorflow as tf\n",
        "import pandas as pd\n",
        "import matplotlib.pyplot as plt\n",
        "import matplotlib.image as mpimg\n",
        "import seaborn as sns\n",
        "%matplotlib inline\n",
        "\n",
        "from sklearn.model_selection import train_test_split\n",
        "from tensorflow.keras.preprocessing.image import ImageDataGenerator\n",
        "from tensorflow.keras import layers"
      ],
      "execution_count": 1,
      "outputs": [
        {
          "output_type": "stream",
          "text": [
            "/usr/local/lib/python3.6/dist-packages/statsmodels/tools/_testing.py:19: FutureWarning: pandas.util.testing is deprecated. Use the functions in the public API at pandas.testing instead.\n",
            "  import pandas.util.testing as tm\n"
          ],
          "name": "stderr"
        }
      ]
    },
    {
      "cell_type": "markdown",
      "metadata": {
        "id": "qnZ4hk8tBf4v",
        "colab_type": "text"
      },
      "source": [
        "#Load Data"
      ]
    },
    {
      "cell_type": "code",
      "metadata": {
        "id": "yNYjG6fDBcaq",
        "colab_type": "code",
        "outputId": "b4d11900-51f4-4bfc-d0d3-f41a5f614471",
        "colab": {
          "base_uri": "https://localhost:8080/",
          "height": 128
        }
      },
      "source": [
        "from google.colab import drive\n",
        "drive.mount('/content/drive')"
      ],
      "execution_count": 0,
      "outputs": [
        {
          "output_type": "stream",
          "text": [
            "Go to this URL in a browser: https://accounts.google.com/o/oauth2/auth?client_id=947318989803-6bn6qk8qdgf4n4g3pfee6491hc0brc4i.apps.googleusercontent.com&redirect_uri=urn%3aietf%3awg%3aoauth%3a2.0%3aoob&response_type=code&scope=email%20https%3a%2f%2fwww.googleapis.com%2fauth%2fdocs.test%20https%3a%2f%2fwww.googleapis.com%2fauth%2fdrive%20https%3a%2f%2fwww.googleapis.com%2fauth%2fdrive.photos.readonly%20https%3a%2f%2fwww.googleapis.com%2fauth%2fpeopleapi.readonly\n",
            "\n",
            "Enter your authorization code:\n",
            "··········\n",
            "Mounted at /content/drive\n"
          ],
          "name": "stdout"
        }
      ]
    },
    {
      "cell_type": "code",
      "metadata": {
        "id": "DdKL64BxBjc_",
        "colab_type": "code",
        "outputId": "4a71f81b-78d3-4c05-db01-1c5e05a5fe7e",
        "colab": {
          "base_uri": "https://localhost:8080/",
          "height": 515
        }
      },
      "source": [
        "train = pd.read_csv('/content/drive/My Drive/Colab Notebooks/digits-recognition-kaggel/train.csv')\n",
        "test = pd.read_csv('/content/drive/My Drive/Colab Notebooks/digits-recognition-kaggel/test.csv')\n",
        "print(f'train data shape: {train.shape} \\ntest data shape: {test.shape}')\n",
        "\n",
        "y_train = train['label']\n",
        "X_train = train.drop('label', axis =1)\n",
        "X_test = test\n",
        "\n",
        "#interpret labels\n",
        "sns.countplot(y_train)\n",
        "plt.show()\n",
        "print(y_train.value_counts())"
      ],
      "execution_count": 0,
      "outputs": [
        {
          "output_type": "stream",
          "text": [
            "train data shape: (42000, 785) \n",
            "test data shape: (28000, 784)\n"
          ],
          "name": "stdout"
        },
        {
          "output_type": "display_data",
          "data": {
            "image/png": "[encoded data removed]",
            "text/plain": [
              "<Figure size 432x288 with 1 Axes>"
            ]
          },
          "metadata": {
            "tags": [],
            "needs_background": "light"
          }
        },
        {
          "output_type": "stream",
          "text": [
            "1    4684\n",
            "7    4401\n",
            "3    4351\n",
            "9    4188\n",
            "2    4177\n",
            "6    4137\n",
            "0    4132\n",
            "4    4072\n",
            "8    4063\n",
            "5    3795\n",
            "Name: label, dtype: int64\n"
          ],
          "name": "stdout"
        }
      ]
    },
    {
      "cell_type": "markdown",
      "metadata": {
        "id": "iyoplWhYCbS6",
        "colab_type": "text"
      },
      "source": [
        "#Data splitting and preparing "
      ]
    },
    {
      "cell_type": "code",
      "metadata": {
        "id": "M7e2qhz_Bzg9",
        "colab_type": "code",
        "colab": {}
      },
      "source": [
        "#Normalization \n",
        "X_train = X_train/255.\n",
        "X_test = X_test/255.\n",
        "\n",
        "#reshape\n",
        "X_train = X_train.to_numpy().reshape(-1,28,28,1)\n",
        "X_test = X_test.to_numpy().reshape(-1,28,28,1)\n",
        "\n",
        "#label encoding \n",
        "y_train = pd.get_dummies(y_train)\n",
        "\n",
        "#Data splitting\n",
        "X_train , X_val , y_train , y_val = train_test_split(X_train,y_train,test_size =0.1,random_state  = 2)"
      ],
      "execution_count": 0,
      "outputs": []
    },
    {
      "cell_type": "code",
      "metadata": {
        "id": "xn4b8k_paODf",
        "colab_type": "code",
        "outputId": "c5446f91-f0f0-469d-de56-c75421236ad3",
        "colab": {
          "base_uri": "https://localhost:8080/",
          "height": 54
        }
      },
      "source": [
        "print(f'X_train shape = {X_train.shape}\\nX_val shape= {X_val.shape}')"
      ],
      "execution_count": 0,
      "outputs": [
        {
          "output_type": "stream",
          "text": [
            "X_train shape = (37800, 28, 28, 1)\n",
            "X_val shape= (4200, 28, 28, 1)\n"
          ],
          "name": "stdout"
        }
      ]
    },
    {
      "cell_type": "code",
      "metadata": {
        "id": "zXTMSnz6C_tg",
        "colab_type": "code",
        "outputId": "d6b0bdba-1341-4e3e-b9d4-b257e22457c3",
        "colab": {
          "base_uri": "https://localhost:8080/",
          "height": 283
        }
      },
      "source": [
        "#show example\n",
        "plt.imshow(X_train[15,:,:,0])"
      ],
      "execution_count": 0,
      "outputs": [
        {
          "output_type": "execute_result",
          "data": {
            "text/plain": [
              "<matplotlib.image.AxesImage at 0x7fb60012d0b8>"
            ]
          },
          "metadata": {
            "tags": []
          },
          "execution_count": 54
        },
        {
          "output_type": "display_data",
          "data": {
            "image/png": "[encoded data removed]",
            "text/plain": [
              "<Figure size 432x288 with 1 Axes>"
            ]
          },
          "metadata": {
            "tags": [],
            "needs_background": "light"
          }
        }
      ]
    },
    {
      "cell_type": "markdown",
      "metadata": {
        "id": "23IyaJn_Db80",
        "colab_type": "text"
      },
      "source": [
        "#Data Augmentation"
      ]
    },
    {
      "cell_type": "code",
      "metadata": {
        "id": "aNHvm5B3DIJn",
        "colab_type": "code",
        "colab": {}
      },
      "source": [
        "datagen = ImageDataGenerator(\n",
        "        rotation_range=10,  \n",
        "        zoom_range = 0.1, \n",
        "        width_shift_range=0.1,  \n",
        "        height_shift_range=0.1,  \n",
        "        ) "
      ],
      "execution_count": 0,
      "outputs": []
    },
    {
      "cell_type": "markdown",
      "metadata": {
        "id": "DN2Ntmbxcanm",
        "colab_type": "text"
      },
      "source": [
        "###Callback class to stop training at ACCURACY THRESHOLD"
      ]
    },
    {
      "cell_type": "code",
      "metadata": {
        "id": "tAZxEskDcmBQ",
        "colab_type": "code",
        "colab": {}
      },
      "source": [
        "ACCURACY_THRESHOLD = 0.995\n",
        "class myCallback(tf.keras.callbacks.Callback): \n",
        "    def on_epoch_end(self, epoch, logs={}): \n",
        "        if(logs.get('accuracy') > ACCURACY_THRESHOLD):   \n",
        "          print(\"\\nReached %2.2f%% accuracy, so stopping training!!\" %(ACCURACY_THRESHOLD*100))   \n",
        "          self.model.stop_training = True\n",
        "callbacks = myCallback()"
      ],
      "execution_count": 0,
      "outputs": []
    },
    {
      "cell_type": "markdown",
      "metadata": {
        "id": "bYP9AvMZEE73",
        "colab_type": "text"
      },
      "source": [
        "#CNN Model"
      ]
    },
    {
      "cell_type": "code",
      "metadata": {
        "id": "lxwwaYbTEKiP",
        "colab_type": "code",
        "colab": {
          "base_uri": "https://localhost:8080/",
          "height": 745
        },
        "outputId": "ca58ad77-ec14-49b9-f643-458dc8174734"
      },
      "source": [
        "model = tf.keras.models.Sequential([layers.Conv2D(filters = 16, kernel_size=(3,3),padding = 'same', input_shape = (28,28,1),activation = 'relu'),\n",
        "                                    layers.Conv2D(filters = 16, kernel_size=(3,3),padding = 'same',activation = 'relu'),\n",
        "                                    layers.MaxPooling2D(2,2),\n",
        "                                    layers.Dropout(0.25),\n",
        "\n",
        "                                    layers.Conv2D(filters = 32, kernel_size=(3,3),padding = 'same',activation = 'relu'),\n",
        "                                    layers.Conv2D(filters = 32, kernel_size=(3,3),padding = 'same',activation = 'relu'),\n",
        "                                    layers.MaxPooling2D(2,2),\n",
        "                                    layers.Dropout(0.25),\n",
        "\n",
        "                                    layers.Conv2D(filters = 64, kernel_size=(3,3),padding = 'same',activation = 'relu'),\n",
        "                                    layers.Conv2D(filters = 64, kernel_size=(3,3),padding = 'same',activation = 'relu'),\n",
        "                                    layers.MaxPooling2D(2,2),\n",
        "                                    layers.Dropout(0.25),\n",
        "\n",
        "                                    layers.Flatten(),\n",
        "                                    layers.Dense(units = 256, activation = 'relu'),\n",
        "                                    layers.Dropout(0.5),\n",
        "                                    layers.Dense(units = 10, activation = 'softmax')\n",
        "\n",
        "\n",
        "                                    ])\n",
        "\n",
        "model.compile(optimizer=\"Adam\", loss=\"categorical_crossentropy\", metrics=[\"accuracy\"])\n",
        "\n",
        "model.summary()"
      ],
      "execution_count": 2,
      "outputs": [
        {
          "output_type": "stream",
          "text": [
            "Model: \"sequential\"\n",
            "_________________________________________________________________\n",
            "Layer (type)                 Output Shape              Param #   \n",
            "=================================================================\n",
            "conv2d (Conv2D)              (None, 28, 28, 16)        160       \n",
            "_________________________________________________________________\n",
            "conv2d_1 (Conv2D)            (None, 28, 28, 16)        2320      \n",
            "_________________________________________________________________\n",
            "max_pooling2d (MaxPooling2D) (None, 14, 14, 16)        0         \n",
            "_________________________________________________________________\n",
            "dropout (Dropout)            (None, 14, 14, 16)        0         \n",
            "_________________________________________________________________\n",
            "conv2d_2 (Conv2D)            (None, 14, 14, 32)        4640      \n",
            "_________________________________________________________________\n",
            "conv2d_3 (Conv2D)            (None, 14, 14, 32)        9248      \n",
            "_________________________________________________________________\n",
            "max_pooling2d_1 (MaxPooling2 (None, 7, 7, 32)          0         \n",
            "_________________________________________________________________\n",
            "dropout_1 (Dropout)          (None, 7, 7, 32)          0         \n",
            "_________________________________________________________________\n",
            "conv2d_4 (Conv2D)            (None, 7, 7, 64)          18496     \n",
            "_________________________________________________________________\n",
            "conv2d_5 (Conv2D)            (None, 7, 7, 64)          36928     \n",
            "_________________________________________________________________\n",
            "max_pooling2d_2 (MaxPooling2 (None, 3, 3, 64)          0         \n",
            "_________________________________________________________________\n",
            "dropout_2 (Dropout)          (None, 3, 3, 64)          0         \n",
            "_________________________________________________________________\n",
            "flatten (Flatten)            (None, 576)               0         \n",
            "_________________________________________________________________\n",
            "dense (Dense)                (None, 256)               147712    \n",
            "_________________________________________________________________\n",
            "dropout_3 (Dropout)          (None, 256)               0         \n",
            "_________________________________________________________________\n",
            "dense_1 (Dense)              (None, 10)                2570      \n",
            "=================================================================\n",
            "Total params: 222,074\n",
            "Trainable params: 222,074\n",
            "Non-trainable params: 0\n",
            "_________________________________________________________________\n"
          ],
          "name": "stdout"
        }
      ]
    },
    {
      "cell_type": "markdown",
      "metadata": {
        "id": "TEfxFRrsET-I",
        "colab_type": "text"
      },
      "source": [
        "#Fitting the Data \n"
      ]
    },
    {
      "cell_type": "code",
      "metadata": {
        "id": "CRrW_8nREXad",
        "colab_type": "code",
        "outputId": "36f462e4-5619-4faf-9314-e41df33514b0",
        "colab": {
          "base_uri": "https://localhost:8080/",
          "height": 1000
        }
      },
      "source": [
        "train_gen = datagen.flow(x = X_train,y=y_train,batch_size=256)\n",
        "history = model.fit_generator(train_gen,\n",
        "                              epochs = 50,validation_data = (X_val,y_val) ,steps_per_epoch = 750,\n",
        "                              callbacks=[callbacks])"
      ],
      "execution_count": 0,
      "outputs": [
        {
          "output_type": "stream",
          "text": [
            "Epoch 1/50\n",
            "750/750 [==============================] - 43s 58ms/step - loss: 0.3071 - accuracy: 0.9004 - val_loss: 0.0398 - val_accuracy: 0.9860\n",
            "Epoch 2/50\n",
            "750/750 [==============================] - 44s 59ms/step - loss: 0.0797 - accuracy: 0.9765 - val_loss: 0.0205 - val_accuracy: 0.9940\n",
            "Epoch 3/50\n",
            "750/750 [==============================] - 44s 59ms/step - loss: 0.0582 - accuracy: 0.9826 - val_loss: 0.0196 - val_accuracy: 0.9936\n",
            "Epoch 4/50\n",
            "750/750 [==============================] - 44s 59ms/step - loss: 0.0491 - accuracy: 0.9855 - val_loss: 0.0172 - val_accuracy: 0.9943\n",
            "Epoch 5/50\n",
            "750/750 [==============================] - 47s 63ms/step - loss: 0.0427 - accuracy: 0.9870 - val_loss: 0.0205 - val_accuracy: 0.9952\n",
            "Epoch 6/50\n",
            "750/750 [==============================] - 46s 62ms/step - loss: 0.0379 - accuracy: 0.9884 - val_loss: 0.0173 - val_accuracy: 0.9955\n",
            "Epoch 7/50\n",
            "750/750 [==============================] - 51s 68ms/step - loss: 0.0354 - accuracy: 0.9891 - val_loss: 0.0126 - val_accuracy: 0.9955\n",
            "Epoch 8/50\n",
            "750/750 [==============================] - 48s 63ms/step - loss: 0.0324 - accuracy: 0.9901 - val_loss: 0.0183 - val_accuracy: 0.9940\n",
            "Epoch 9/50\n",
            "750/750 [==============================] - 48s 64ms/step - loss: 0.0285 - accuracy: 0.9915 - val_loss: 0.0159 - val_accuracy: 0.9950\n",
            "Epoch 10/50\n",
            "750/750 [==============================] - 47s 63ms/step - loss: 0.0293 - accuracy: 0.9912 - val_loss: 0.0184 - val_accuracy: 0.9950\n",
            "Epoch 11/50\n",
            "750/750 [==============================] - 47s 62ms/step - loss: 0.0268 - accuracy: 0.9918 - val_loss: 0.0221 - val_accuracy: 0.9940\n",
            "Epoch 12/50\n",
            "750/750 [==============================] - 47s 63ms/step - loss: 0.0267 - accuracy: 0.9919 - val_loss: 0.0248 - val_accuracy: 0.9931\n",
            "Epoch 13/50\n",
            "750/750 [==============================] - 47s 63ms/step - loss: 0.0242 - accuracy: 0.9926 - val_loss: 0.0140 - val_accuracy: 0.9964\n",
            "Epoch 14/50\n",
            "750/750 [==============================] - 47s 63ms/step - loss: 0.0235 - accuracy: 0.9930 - val_loss: 0.0220 - val_accuracy: 0.9933\n",
            "Epoch 15/50\n",
            "750/750 [==============================] - 47s 63ms/step - loss: 0.0239 - accuracy: 0.9927 - val_loss: 0.0201 - val_accuracy: 0.9940\n",
            "Epoch 16/50\n",
            "750/750 [==============================] - 47s 63ms/step - loss: 0.0230 - accuracy: 0.9928 - val_loss: 0.0151 - val_accuracy: 0.9955\n",
            "Epoch 17/50\n",
            "750/750 [==============================] - 47s 63ms/step - loss: 0.0217 - accuracy: 0.9933 - val_loss: 0.0193 - val_accuracy: 0.9957\n",
            "Epoch 18/50\n",
            "750/750 [==============================] - 47s 63ms/step - loss: 0.0206 - accuracy: 0.9936 - val_loss: 0.0140 - val_accuracy: 0.9960\n",
            "Epoch 19/50\n",
            "750/750 [==============================] - 47s 62ms/step - loss: 0.0209 - accuracy: 0.9937 - val_loss: 0.0176 - val_accuracy: 0.9952\n",
            "Epoch 20/50\n",
            "750/750 [==============================] - 47s 63ms/step - loss: 0.0204 - accuracy: 0.9937 - val_loss: 0.0142 - val_accuracy: 0.9962\n",
            "Epoch 21/50\n",
            "750/750 [==============================] - 47s 63ms/step - loss: 0.0197 - accuracy: 0.9940 - val_loss: 0.0154 - val_accuracy: 0.9967\n",
            "Epoch 22/50\n",
            "750/750 [==============================] - 47s 63ms/step - loss: 0.0196 - accuracy: 0.9940 - val_loss: 0.0199 - val_accuracy: 0.9948\n",
            "Epoch 23/50\n",
            "750/750 [==============================] - 48s 64ms/step - loss: 0.0189 - accuracy: 0.9943 - val_loss: 0.0132 - val_accuracy: 0.9948\n",
            "Epoch 24/50\n",
            "750/750 [==============================] - 47s 63ms/step - loss: 0.0189 - accuracy: 0.9942 - val_loss: 0.0127 - val_accuracy: 0.9957\n",
            "Epoch 25/50\n",
            "750/750 [==============================] - 47s 63ms/step - loss: 0.0196 - accuracy: 0.9938 - val_loss: 0.0145 - val_accuracy: 0.9952\n",
            "Epoch 26/50\n",
            "750/750 [==============================] - 48s 64ms/step - loss: 0.0181 - accuracy: 0.9945 - val_loss: 0.0255 - val_accuracy: 0.9929\n",
            "Epoch 27/50\n",
            "750/750 [==============================] - 48s 64ms/step - loss: 0.0183 - accuracy: 0.9943 - val_loss: 0.0226 - val_accuracy: 0.9936\n",
            "Epoch 28/50\n",
            "750/750 [==============================] - 48s 64ms/step - loss: 0.0183 - accuracy: 0.9942 - val_loss: 0.0174 - val_accuracy: 0.9957\n",
            "Epoch 29/50\n",
            "750/750 [==============================] - 47s 63ms/step - loss: 0.0172 - accuracy: 0.9946 - val_loss: 0.0153 - val_accuracy: 0.9945\n",
            "Epoch 30/50\n",
            "750/750 [==============================] - 48s 64ms/step - loss: 0.0176 - accuracy: 0.9947 - val_loss: 0.0187 - val_accuracy: 0.9960\n",
            "Epoch 31/50\n",
            "750/750 [==============================] - 48s 64ms/step - loss: 0.0171 - accuracy: 0.9949 - val_loss: 0.0198 - val_accuracy: 0.9957\n",
            "Epoch 32/50\n",
            "750/750 [==============================] - ETA: 0s - loss: 0.0161 - accuracy: 0.9952\n",
            "Reached 99.50% accuracy, so stopping training!!\n",
            "750/750 [==============================] - 48s 64ms/step - loss: 0.0161 - accuracy: 0.9952 - val_loss: 0.0141 - val_accuracy: 0.9955\n"
          ],
          "name": "stdout"
        }
      ]
    },
    {
      "cell_type": "markdown",
      "metadata": {
        "id": "LC5nqQ1hXfJP",
        "colab_type": "text"
      },
      "source": [
        "## Plotting Acuracy and Loss of Training and validation "
      ]
    },
    {
      "cell_type": "code",
      "metadata": {
        "id": "wfZ-W0GKZdm2",
        "colab_type": "code",
        "outputId": "bd969c8c-89a6-4a23-fb9a-03214dd7c5cc",
        "colab": {
          "base_uri": "https://localhost:8080/",
          "height": 581
        }
      },
      "source": [
        "#-----------------------------------------------------------\n",
        "# Retrieve a list of list results on training and test data\n",
        "# sets for each training epoch\n",
        "#-----------------------------------------------------------\n",
        "acc=history.history['accuracy']\n",
        "val_acc=history.history['val_accuracy']\n",
        "loss=history.history['loss']\n",
        "val_loss=history.history['val_loss']\n",
        "\n",
        "epochs=range(len(acc)) # Get number of epochs\n",
        "\n",
        "#------------------------------------------------\n",
        "# Plot training and validation accuracy per epoch\n",
        "#------------------------------------------------\n",
        "plt.plot(epochs, acc, 'r', \"Training Accuracy\")\n",
        "plt.plot(epochs, val_acc, 'b', \"Validation Accuracy\")\n",
        "plt.title('Training and validation accuracy')\n",
        "plt.legend(['train','val'])\n",
        "plt.figure()\n",
        "\n",
        "#------------------------------------------------\n",
        "# Plot training and validation loss per epoch\n",
        "#------------------------------------------------\n",
        "plt.plot(epochs, loss, 'r', \"Training Loss\")\n",
        "plt.plot(epochs, val_loss, 'b', \"Validation Loss\")\n",
        "plt.legend(['train','val'])\n",
        "plt.title('Training and validation loss')\n",
        "plt.figure()\n",
        "\n"
      ],
      "execution_count": 0,
      "outputs": [
        {
          "output_type": "execute_result",
          "data": {
            "text/plain": [
              "<Figure size 432x288 with 0 Axes>"
            ]
          },
          "metadata": {
            "tags": []
          },
          "execution_count": 60
        },
        {
          "output_type": "display_data",
          "data": {
            "image/png": "[encoded data removed]",
            "text/plain": [
              "<Figure size 432x288 with 1 Axes>"
            ]
          },
          "metadata": {
            "tags": [],
            "needs_background": "light"
          }
        },
        {
          "output_type": "display_data",
          "data": {
            "image/png": "[encoded data removed]",
            "text/plain": [
              "<Figure size 432x288 with 1 Axes>"
            ]
          },
          "metadata": {
            "tags": [],
            "needs_background": "light"
          }
        },
        {
          "output_type": "display_data",
          "data": {
            "text/plain": [
              "<Figure size 432x288 with 0 Axes>"
            ]
          },
          "metadata": {
            "tags": []
          }
        }
      ]
    },
    {
      "cell_type": "markdown",
      "metadata": {
        "id": "bh_rGOyYuoyT",
        "colab_type": "text"
      },
      "source": [
        "Save the weights"
      ]
    },
    {
      "cell_type": "code",
      "metadata": {
        "id": "pIJqPy2nuuM3",
        "colab_type": "code",
        "colab": {}
      },
      "source": [
        "model.save_weights('my_model_weights.h5')"
      ],
      "execution_count": 0,
      "outputs": []
    },
    {
      "cell_type": "markdown",
      "metadata": {
        "id": "e1a-IdOGtmZ_",
        "colab_type": "text"
      },
      "source": [
        "predict the results for kaggel submission"
      ]
    },
    {
      "cell_type": "code",
      "metadata": {
        "id": "ryuNoDM6t3Jv",
        "colab_type": "code",
        "colab": {}
      },
      "source": [
        "results = model.predict(X_test)\n",
        "\n",
        "# select the indix with the maximum probability\n",
        "results = np.argmax(results,axis = 1)\n",
        "\n",
        "results = pd.Series(results,name=\"Label\")\n",
        "\n",
        "submission = pd.concat([pd.Series(range(1,28001),name = \"ImageId\"),results],axis = 1)\n",
        "\n",
        "submission.to_csv(\"cnn_mnist_datagen.csv\",index=False)\n"
      ],
      "execution_count": 0,
      "outputs": []
    },
    {
      "cell_type": "code",
      "metadata": {
        "id": "uVRCgA8duOwO",
        "colab_type": "code",
        "colab": {}
      },
      "source": [
        "#download the file of submission to local\n",
        "from google.colab import files\n",
        "\n",
        "files.download('cnn_mnist_datagen.csv')\n",
        "files.download('my_model_weights.h5')"
      ],
      "execution_count": 0,
      "outputs": []
    }
  ]
}